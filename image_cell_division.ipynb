{
 "cells": [
  {
   "cell_type": "code",
   "execution_count": 1,
   "metadata": {},
   "outputs": [],
   "source": [
    "import numpy as np\n",
    "import cv2"
   ]
  },
  {
   "cell_type": "code",
   "execution_count": 2,
   "metadata": {},
   "outputs": [
    {
     "data": {
      "text/plain": [
       "True"
      ]
     },
     "execution_count": 2,
     "metadata": {},
     "output_type": "execute_result"
    }
   ],
   "source": [
    "#convert an image to grayscale\n",
    "image = cv2.imread('test.jpg')\n",
    "\n",
    "#convert the image to grayscale\n",
    "gray_image = cv2.cvtColor(image, cv2.COLOR_BGR2GRAY)\n",
    "\n",
    "#save or display the grayscale image\n",
    "cv2.imwrite('grayscale_image.jpg', gray_image)"
   ]
  },
  {
   "cell_type": "code",
   "execution_count": 3,
   "metadata": {},
   "outputs": [],
   "source": [
    "image = cv2.imread('grayscale_image.jpg', cv2.IMREAD_GRAYSCALE)\n",
    "\n",
    "#define cell size( eg. 32*32 pixels)\n",
    "cell_size= 32\n",
    "\n",
    "#get image distance\n",
    "height , width = image.shape\n",
    "\n",
    "#Initialization an empty list to store extracted cells\n",
    "cells = []\n",
    "\n",
    "#iterate through rows and columns to extract cells\n",
    "for y in range(0, height, cell_size):\n",
    "    for x in range(0, width, cell_size):\n",
    "        cell = image[y:y+cell_size, x:x+cell_size]\n",
    "        cells.append(cell)\n",
    "\n",
    "#now 'cells' contains a list of extracted cells from the image"
   ]
  },
  {
   "cell_type": "code",
   "execution_count": null,
   "metadata": {},
   "outputs": [],
   "source": []
  }
 ],
 "metadata": {
  "kernelspec": {
   "display_name": "base",
   "language": "python",
   "name": "python3"
  },
  "language_info": {
   "codemirror_mode": {
    "name": "ipython",
    "version": 3
   },
   "file_extension": ".py",
   "mimetype": "text/x-python",
   "name": "python",
   "nbconvert_exporter": "python",
   "pygments_lexer": "ipython3",
   "version": "3.9.13"
  },
  "orig_nbformat": 4
 },
 "nbformat": 4,
 "nbformat_minor": 2
}
